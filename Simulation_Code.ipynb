{
 "cells": [
  {
   "cell_type": "markdown",
   "metadata": {},
   "source": [
    "This notebook provides code to run the simulation presented in the research notes \"How Collaborative Theory Formation Reduces Epistemic Uncertainty.\" First, we import all required packages."
   ]
  },
  {
   "cell_type": "code",
   "execution_count": 73,
   "metadata": {},
   "outputs": [],
   "source": [
    "import numpy as np\n",
    "import pandas as pd\n",
    "import itertools as it\n",
    "import statsmodels.formula.api as smf\n",
    "import matplotlib.pyplot as plt\n",
    "import seaborn as sns\n",
    "import scipy.stats\n",
    "import scipy.integrate\n",
    "import scipy.spatial\n",
    "import scipy.misc\n",
    "from scipy.special import rel_entr\n",
    "import random\n",
    "from tqdm import tqdm"
   ]
  },
  {
   "cell_type": "markdown",
   "metadata": {},
   "source": [
    "Next, we define three crucial functions:\n",
    "\n",
    "1. the probability distribution $p(Y^{*}|\\mathbf{x})$,\n",
    "2. the probability distribution $p(Y^{*}|\\boldsymbol{\\theta},\\mathbf{x})$, and \n",
    "3. the standpoint function $\\gamma$.\n"
   ]
  },
  {
   "cell_type": "code",
   "execution_count": 74,
   "metadata": {},
   "outputs": [],
   "source": [
    "def prob_y_given_x(y,x,B,minimum,maximum):\n",
    "    if y == minimum:\n",
    "        return scipy.stats.norm.cdf(y,0,np.sum(np.sqrt(x**2)))\n",
    "    if y == maximum:\n",
    "        return 1 - scipy.stats.norm.cdf(y,0,np.sum(np.sqrt(x**2)))\n",
    "    else:\n",
    "        return scipy.stats.norm.cdf(y,0,np.sum(np.sqrt(x**2))) - scipy.stats.norm.cdf(y-B,0,np.sum(np.sqrt(x**2)))\n",
    "\n",
    "def gamma(i,j,K,M,N):\n",
    "    return np.sum([K[l][j] for l in range(0,N)])/N +.001\n",
    "\n",
    "def prob_y_given_Hx(y,x,hat_theta,K,M,N,B,minimum,maximum,mean_estimate,sd_estimate):\n",
    "    if y == minimum:\n",
    "        return scipy.stats.norm.cdf(y,np.mean(mean_estimate),np.sqrt(np.mean(sd_estimate)**2))\n",
    "    if y == maximum:\n",
    "        return 1 - scipy.stats.norm.cdf(y+B,np.mean(mean_estimate),np.sqrt(np.mean(sd_estimate)**2))\n",
    "    else:\n",
    "        return scipy.stats.norm.cdf(y,np.mean(mean_estimate),np.sqrt(np.mean(sd_estimate)**2)) - scipy.stats.norm.cdf(y-B,np.mean(mean_estimate),np.sqrt(np.mean(sd_estimate)**2))"
   ]
  },
  {
   "cell_type": "markdown",
   "metadata": {},
   "source": [
    "Now we run the simulation for the first case, where new group members are recruited under the expectation that they will measure statistically important parameters. On a 2020 Macbook pro, this takes approximately 35 minutes."
   ]
  },
  {
   "cell_type": "code",
   "execution_count": 75,
   "metadata": {},
   "outputs": [
    {
     "name": "stderr",
     "output_type": "stream",
     "text": [
      "100%|██████████| 9/9 [34:53<00:00, 232.56s/it]\n"
     ]
    }
   ],
   "source": [
    "Ns_contrast = []\n",
    "kl_estimates_contrast = []\n",
    "ratios_contrast = []\n",
    "B=20\n",
    "minimum = -1000\n",
    "maximum = 1000\n",
    "\n",
    "\n",
    "for alpha in tqdm([.1,.2,.3,.4,.5,.6,.7,.8,.9]):\n",
    "    M = 100\n",
    "    Q = alpha*M\n",
    "    for beta in range(0,100):\n",
    "        x = np.random.normal(0,1,M) #Generates the observed parameter vector\n",
    "        theta = np.random.normal(0,1,M) #Generates the unobserved paramter vector.\n",
    "        N=10\n",
    "        #The next few lines build a matrix K such that k_{ij}=1 if parameter j is in individual i's estimation set, with k_{ij}=0 otherwise.\n",
    "        K = np.zeros((N,M))\n",
    "        weights = [np.abs(theta[j])/np.sum(np.abs(theta)) for j in range(0,M)]\n",
    "        for i in range(0,N):\n",
    "            arr = np.random.choice(np.arange(0,M),p=weights,size=int(Q), replace=False)\n",
    "            for j in range(0,M):\n",
    "                if j in arr:\n",
    "                    K[i][j] = 1\n",
    "                else:\n",
    "                    K[i][j] = 0\n",
    "        #The next few lines update the matrix K as we add more members the the group.\n",
    "        for w in range(0,31):\n",
    "            N = 10+w\n",
    "            Ns_contrast = np.append(Ns_contrast,[N])\n",
    "            ratios_contrast = np.append(ratios_contrast,[alpha])\n",
    "            K = np.append(K,[np.zeros(M)],axis=0)\n",
    "            arr2 = np.random.choice(np.arange(0,M),p=weights,size=int(Q), replace=False) #Note that here we generate the estimate set by sampling\n",
    "            #from a distribution weighted according to the importance of the unknown parameters\n",
    "            for j in range(0,M):\n",
    "                if j in arr2:\n",
    "                    K[N][j] = 1\n",
    "                else:\n",
    "                    K[N][j] = 0\n",
    "            #The next few lines generate the parameter estimates for each individual.\n",
    "            if w==0:\n",
    "                hat_theta = np.zeros((N,M))\n",
    "                for i in range(0,N):\n",
    "                    for j in range(0,M):\n",
    "                        if K[i][j] == 1:\n",
    "                            hat_theta[i][j] = np.random.normal(theta[j],gamma(i,j,K,M,N))\n",
    "                        \n",
    "            else:\n",
    "                hat_theta = np.append(hat_theta,[np.zeros(M)],axis=0)\n",
    "                for j in range(0,M):\n",
    "                        if K[N-1][j] == 1:\n",
    "                            hat_theta[N-1][j] = np.random.normal(theta[j],gamma(i,j,K,M,N))\n",
    "\n",
    "            \n",
    "            #The remaining lines calculate the relevant probability distributions and KL-estimates for the group.\n",
    "            mean_estimate = [np.dot(hat_theta[i],x) for i in range(0,N)]\n",
    "\n",
    "            \n",
    "            sd_estimate = [np.sqrt(np.dot([gamma(i,j,K,M,N) for j in range(0,M)],x)**2) for i in range(0,N)]\n",
    "           \n",
    "        \n",
    "            p_y_given_Hx = [prob_y_given_Hx(i,x,hat_theta,K,M,N,B,minimum,maximum,mean_estimate,sd_estimate) for i in range(minimum,maximum+B,B)]\n",
    "            p_y_given_x = [prob_y_given_x(i,x,B,minimum,maximum) for i in range(minimum,maximum+B,B)]\n",
    "            kl_estimates_contrast = np.append(kl_estimates_contrast,[sum(rel_entr(p_y_given_Hx,p_y_given_x))])"
   ]
  },
  {
   "cell_type": "markdown",
   "metadata": {},
   "source": [
    "After completing the simulation, we run a linear regression to get a sense of the statistical relationships between variables."
   ]
  },
  {
   "cell_type": "code",
   "execution_count": 85,
   "metadata": {},
   "outputs": [
    {
     "name": "stdout",
     "output_type": "stream",
     "text": [
      "                            OLS Regression Results                            \n",
      "==============================================================================\n",
      "Dep. Variable:                     MI   R-squared:                       0.094\n",
      "Model:                            OLS   Adj. R-squared:                  0.094\n",
      "Method:                 Least Squares   F-statistic:                     961.4\n",
      "Date:                Sun, 17 Jul 2022   Prob (F-statistic):               0.00\n",
      "Time:                        11:35:12   Log-Likelihood:                -9801.8\n",
      "No. Observations:               27900   AIC:                         1.961e+04\n",
      "Df Residuals:                   27896   BIC:                         1.964e+04\n",
      "Df Model:                           3                                         \n",
      "Covariance Type:            nonrobust                                         \n",
      "==============================================================================\n",
      "                 coef    std err          t      P>|t|      [0.025      0.975]\n",
      "------------------------------------------------------------------------------\n",
      "Intercept      2.0871      0.013    156.702      0.000       2.061       2.113\n",
      "N              0.0003      0.001      0.676      0.499      -0.001       0.001\n",
      "Ratio         -0.4233      0.024    -17.883      0.000      -0.470      -0.377\n",
      "N:Ratio       -0.0002      0.001     -0.217      0.828      -0.002       0.002\n",
      "==============================================================================\n",
      "Omnibus:                      954.768   Durbin-Watson:                   0.085\n",
      "Prob(Omnibus):                  0.000   Jarque-Bera (JB):              532.331\n",
      "Skew:                          -0.174   Prob(JB):                    2.55e-116\n",
      "Kurtosis:                       2.420   Cond. No.                         386.\n",
      "==============================================================================\n",
      "\n",
      "Notes:\n",
      "[1] Standard Errors assume that the covariance matrix of the errors is correctly specified.\n"
     ]
    }
   ],
   "source": [
    "arr = np.hstack((Ns_contrast.reshape(-1,1),kl_estimates_contrast.reshape(-1,1),ratios_contrast.reshape(-1,1)))\n",
    "df = pd.DataFrame(arr,columns=['N','MI','Ratio'])\n",
    "mod = smf.ols(formula = 'MI ~ N + Ratio + N:Ratio',data=df)\n",
    "res = mod.fit()\n",
    "print(res.summary())"
   ]
  },
  {
   "cell_type": "markdown",
   "metadata": {},
   "source": [
    "And finally, we generate the heatmap shown in Figure 1(a)."
   ]
  },
  {
   "cell_type": "code",
   "execution_count": 77,
   "metadata": {},
   "outputs": [
    {
     "data": {
      "image/png": "[encoded data removed]",
      "text/plain": [
       "<Figure size 432x288 with 2 Axes>"
      ]
     },
     "metadata": {
      "needs_background": "light"
     },
     "output_type": "display_data"
    }
   ],
   "source": [
    "pivot = df.groupby(['N','Ratio'])['MI'].aggregate('mean').unstack()\n",
    "sns.heatmap(pivot,cmap='YlGnBu',vmin=1.6,vmax=2.10)\n",
    "plt.savefig(\"heatmap\")"
   ]
  },
  {
   "cell_type": "markdown",
   "metadata": {},
   "source": [
    "Next, we re-run the simulation for the case in which we aim to recruit individuals to the group who are more likely to sample uncommon parameters. This also takes about 35 minutes on my machine."
   ]
  },
  {
   "cell_type": "code",
   "execution_count": 79,
   "metadata": {},
   "outputs": [
    {
     "name": "stderr",
     "output_type": "stream",
     "text": [
      "100%|██████████| 9/9 [35:58<00:00, 239.86s/it]\n"
     ]
    }
   ],
   "source": [
    "Ns = []\n",
    "kl_estimates = []\n",
    "ratios = []\n",
    "B=20\n",
    "minimum = -1000\n",
    "maximum = 1000\n",
    "\n",
    "\n",
    "for alpha in tqdm([.1,.2,.3,.4,.5,.6,.7,.8,.9]):\n",
    "    M = 100\n",
    "    Q = alpha*M\n",
    "    for beta in range(0,100):\n",
    "        x = np.random.normal(0,1,M) #Generates the observed parameter vector\n",
    "        theta = np.random.normal(0,1,M) #Generates the unobserved paramter vector.\n",
    "        N=10\n",
    "        #The next few lines build a matrix K such that k_{ij}=1 if parameter j is in individual i's estimation set, with k_{ij}=0 otherwise.\n",
    "        K = np.zeros((N,M))\n",
    "        weights = [np.abs(theta[j])/np.sum(np.abs(theta)) for j in range(0,M)]\n",
    "        for i in range(0,N):\n",
    "            arr = np.random.choice(np.arange(0,M),p=weights,size=int(Q), replace=False)\n",
    "            for j in range(0,M):\n",
    "                if j in arr:\n",
    "                    K[i][j] = 1\n",
    "                else:\n",
    "                    K[i][j] = 0\n",
    "        #The next few lines update the matrix K as we add more members the the group.\n",
    "        for w in range(0,31):\n",
    "            N = 10+w\n",
    "            Ns = np.append(Ns,[N])\n",
    "            ratios = np.append(ratios,[alpha])\n",
    "            K = np.append(K,[np.zeros(M)],axis=0)\n",
    "            #In the following crucial line, we generate each new member's estimation set by sampling from \n",
    "            #a distribution that is inversely proportional to their standpoint function.\n",
    "            arr2 = np.random.choice(np.arange(0,M),p=scipy.special.softmax(np.array([1 for j in range(0,M)])-\\\n",
    "                                                np.array([gamma(N,j,K,M,N) for j in range(0,M)])),size=int(Q), replace=False)\n",
    "            for j in range(0,M):\n",
    "                if j in arr2:\n",
    "                    K[N][j] = 1\n",
    "                else:\n",
    "                    K[N][j] = 0\n",
    "            #The next few lines generate the parameter estimates for each individual.\n",
    "            if w==0:\n",
    "                hat_theta = np.zeros((N,M))\n",
    "                for i in range(0,N):\n",
    "                    for j in range(0,M):\n",
    "                        if K[i][j] == 1:\n",
    "                            hat_theta[i][j] = np.random.normal(theta[j],gamma(i,j,K,M,N))\n",
    "                        \n",
    "            else:\n",
    "                hat_theta = np.append(hat_theta,[np.zeros(M)],axis=0)\n",
    "                for j in range(0,M):\n",
    "                        if K[N-1][j] == 1:\n",
    "                            hat_theta[N-1][j] = np.random.normal(theta[j],gamma(i,j,K,M,N))\n",
    "\n",
    "            #The remaining lines calculate the relevant probability distributions and KL-estimates for the group.\n",
    "            mean_estimate = [np.dot(hat_theta[i],x) for i in range(0,N)]\n",
    "\n",
    "            \n",
    "            sd_estimate = [np.sqrt(np.dot([gamma(i,j,K,M,N) for j in range(0,M)],x)**2) for i in range(0,N)]\n",
    "           \n",
    "        \n",
    "            p_y_given_Hx = [prob_y_given_Hx(i,x,hat_theta,K,M,N,B,minimum,maximum,mean_estimate,sd_estimate) for i in range(minimum,maximum+B,B)]\n",
    "            p_y_given_x = [prob_y_given_x(i,x,B,minimum,maximum) for i in range(minimum,maximum+B,B)]\n",
    "            kl_estimates = np.append(kl_estimates,[sum(rel_entr(p_y_given_Hx,p_y_given_x))])"
   ]
  },
  {
   "cell_type": "markdown",
   "metadata": {},
   "source": [
    "Once again, we run a linear regression to get a sense of the statistical relationships between variables."
   ]
  },
  {
   "cell_type": "code",
   "execution_count": 82,
   "metadata": {},
   "outputs": [
    {
     "name": "stdout",
     "output_type": "stream",
     "text": [
      "                            OLS Regression Results                            \n",
      "==============================================================================\n",
      "Dep. Variable:                     MI   R-squared:                       0.083\n",
      "Model:                            OLS   Adj. R-squared:                  0.083\n",
      "Method:                 Least Squares   F-statistic:                     838.5\n",
      "Date:                Sun, 17 Jul 2022   Prob (F-statistic):               0.00\n",
      "Time:                        11:34:06   Log-Likelihood:                -9283.7\n",
      "No. Observations:               27900   AIC:                         1.858e+04\n",
      "Df Residuals:                   27896   BIC:                         1.861e+04\n",
      "Df Model:                           3                                         \n",
      "Covariance Type:            nonrobust                                         \n",
      "==============================================================================\n",
      "                 coef    std err          t      P>|t|      [0.025      0.975]\n",
      "------------------------------------------------------------------------------\n",
      "Intercept      2.1312      0.013    163.013      0.000       2.106       2.157\n",
      "N             -0.0021      0.000     -4.319      0.000      -0.003      -0.001\n",
      "Ratio         -0.4869      0.023    -20.957      0.000      -0.532      -0.441\n",
      "N:Ratio        0.0038      0.001      4.386      0.000       0.002       0.006\n",
      "==============================================================================\n",
      "Omnibus:                     1876.953   Durbin-Watson:                   0.087\n",
      "Prob(Omnibus):                  0.000   Jarque-Bera (JB):              697.165\n",
      "Skew:                          -0.106   Prob(JB):                    4.10e-152\n",
      "Kurtosis:                       2.255   Cond. No.                         386.\n",
      "==============================================================================\n",
      "\n",
      "Notes:\n",
      "[1] Standard Errors assume that the covariance matrix of the errors is correctly specified.\n"
     ]
    }
   ],
   "source": [
    "arr2 = np.hstack((Ns.reshape(-1,1),kl_estimates.reshape(-1,1),ratios.reshape(-1,1)))\n",
    "df2 = pd.DataFrame(arr2,columns=['N','MI','Ratio'])\n",
    "mod = smf.ols(formula = 'MI ~ N + Ratio + N:Ratio',data=df2)\n",
    "res = mod.fit()\n",
    "print(res.summary())"
   ]
  },
  {
   "cell_type": "markdown",
   "metadata": {},
   "source": [
    "And finally, we generate the heatmap shown in Figure 1(a)."
   ]
  },
  {
   "cell_type": "code",
   "execution_count": 83,
   "metadata": {},
   "outputs": [
    {
     "data": {
      "image/png": "[encoded data removed]",
      "text/plain": [
       "<Figure size 432x288 with 2 Axes>"
      ]
     },
     "metadata": {
      "needs_background": "light"
     },
     "output_type": "display_data"
    }
   ],
   "source": [
    "pivot = df2.groupby(['N','Ratio'])['MI'].aggregate('mean').unstack()\n",
    "sns.heatmap(pivot,cmap='YlGnBu',vmin=1.6,vmax=2.10)\n",
    "plt.savefig(\"heatmap\")"
   ]
  },
  {
   "cell_type": "code",
   "execution_count": null,
   "metadata": {},
   "outputs": [],
   "source": []
  }
 ],
 "metadata": {
  "kernelspec": {
   "display_name": "Python 3 (ipykernel)",
   "language": "python",
   "name": "python3"
  },
  "language_info": {
   "codemirror_mode": {
    "name": "ipython",
    "version": 3
   },
   "file_extension": ".py",
   "mimetype": "text/x-python",
   "name": "python",
   "nbconvert_exporter": "python",
   "pygments_lexer": "ipython3",
   "version": "3.8.5"
  }
 },
 "nbformat": 4,
 "nbformat_minor": 4
}
